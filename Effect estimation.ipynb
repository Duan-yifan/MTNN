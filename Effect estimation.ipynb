{
 "cells": [
  {
   "cell_type": "markdown",
   "metadata": {},
   "source": [
    "The dataset below is the last output dataset in MTNN.ipynb\n",
    "\n",
    "The procedure here is to estimate the treatment effect using a dataset that has already handled missing values and calculated a propensity score"
   ]
  },
  {
   "cell_type": "code",
   "execution_count": 56,
   "metadata": {},
   "outputs": [],
   "source": [
    "ds<-read.csv(paste0(\"./data_lalonde/data_lalonde_ps_MAR_0.5_1.csv\"), header=T)"
   ]
  },
  {
   "cell_type": "code",
   "execution_count": 57,
   "metadata": {},
   "outputs": [
    {
     "data": {
      "text/html": [
       "<table>\n",
       "<caption>A data.frame: 6 × 17</caption>\n",
       "<thead>\n",
       "\t<tr><th></th><th scope=col>treat</th><th scope=col>age</th><th scope=col>educ</th><th scope=col>race</th><th scope=col>married</th><th scope=col>nodegree</th><th scope=col>re74</th><th scope=col>re75</th><th scope=col>re78</th><th scope=col>age_new</th><th scope=col>educ_new</th><th scope=col>race_new</th><th scope=col>married_new</th><th scope=col>nodegree_new</th><th scope=col>re74_new</th><th scope=col>re75_new</th><th scope=col>PS</th></tr>\n",
       "\t<tr><th></th><th scope=col>&lt;int&gt;</th><th scope=col>&lt;int&gt;</th><th scope=col>&lt;int&gt;</th><th scope=col>&lt;int&gt;</th><th scope=col>&lt;int&gt;</th><th scope=col>&lt;int&gt;</th><th scope=col>&lt;dbl&gt;</th><th scope=col>&lt;dbl&gt;</th><th scope=col>&lt;dbl&gt;</th><th scope=col>&lt;dbl&gt;</th><th scope=col>&lt;dbl&gt;</th><th scope=col>&lt;dbl&gt;</th><th scope=col>&lt;dbl&gt;</th><th scope=col>&lt;dbl&gt;</th><th scope=col>&lt;dbl&gt;</th><th scope=col>&lt;dbl&gt;</th><th scope=col>&lt;dbl&gt;</th></tr>\n",
       "</thead>\n",
       "<tbody>\n",
       "\t<tr><th scope=row>1</th><td>1</td><td>37</td><td>11</td><td>1</td><td>1</td><td>1</td><td>NA</td><td> 0</td><td> 9930.0460</td><td>36.87897</td><td> 9.269598</td><td>1.0103177</td><td> 0.992788414</td><td>0.939356134</td><td>2508.958620</td><td> 104.619616</td><td>0.4196384</td></tr>\n",
       "\t<tr><th scope=row>2</th><td>1</td><td>22</td><td> 9</td><td>2</td><td>0</td><td>1</td><td>NA</td><td>NA</td><td> 3595.8940</td><td>22.05885</td><td> 9.031122</td><td>2.0103756</td><td> 0.002382094</td><td>1.005831651</td><td>2433.479138</td><td> 783.582575</td><td>0.3355244</td></tr>\n",
       "\t<tr><th scope=row>3</th><td>1</td><td>30</td><td>12</td><td>1</td><td>0</td><td>0</td><td> 0</td><td> 0</td><td>24909.4500</td><td>29.31231</td><td>12.618760</td><td>0.9870983</td><td>-0.004868895</td><td>0.006270865</td><td>  -7.819524</td><td>   1.717361</td><td>0.5666518</td></tr>\n",
       "\t<tr><th scope=row>4</th><td>1</td><td>27</td><td>11</td><td>1</td><td>0</td><td>1</td><td> 0</td><td> 0</td><td> 7506.1460</td><td>26.43169</td><td> 9.749158</td><td>0.9823333</td><td>-0.004816264</td><td>0.962854037</td><td>-138.173065</td><td>-220.540460</td><td>0.6154658</td></tr>\n",
       "\t<tr><th scope=row>5</th><td>1</td><td>33</td><td> 8</td><td>1</td><td>0</td><td>1</td><td> 0</td><td> 0</td><td>  289.7899</td><td>31.44560</td><td> 8.361331</td><td>0.9905948</td><td> 0.001515544</td><td>1.015936556</td><td>-219.375419</td><td>  -5.255533</td><td>0.6132265</td></tr>\n",
       "\t<tr><th scope=row>6</th><td>1</td><td>22</td><td> 9</td><td>1</td><td>0</td><td>1</td><td>NA</td><td> 0</td><td> 4056.4940</td><td>22.53935</td><td> 9.000480</td><td>1.0028630</td><td>-0.005338326</td><td>1.003013183</td><td>1809.601285</td><td> 252.258533</td><td>0.6006557</td></tr>\n",
       "</tbody>\n",
       "</table>\n"
      ],
      "text/latex": [
       "A data.frame: 6 × 17\n",
       "\\begin{tabular}{r|lllllllllllllllll}\n",
       "  & treat & age & educ & race & married & nodegree & re74 & re75 & re78 & age\\_new & educ\\_new & race\\_new & married\\_new & nodegree\\_new & re74\\_new & re75\\_new & PS\\\\\n",
       "  & <int> & <int> & <int> & <int> & <int> & <int> & <dbl> & <dbl> & <dbl> & <dbl> & <dbl> & <dbl> & <dbl> & <dbl> & <dbl> & <dbl> & <dbl>\\\\\n",
       "\\hline\n",
       "\t1 & 1 & 37 & 11 & 1 & 1 & 1 & NA &  0 &  9930.0460 & 36.87897 &  9.269598 & 1.0103177 &  0.992788414 & 0.939356134 & 2508.958620 &  104.619616 & 0.4196384\\\\\n",
       "\t2 & 1 & 22 &  9 & 2 & 0 & 1 & NA & NA &  3595.8940 & 22.05885 &  9.031122 & 2.0103756 &  0.002382094 & 1.005831651 & 2433.479138 &  783.582575 & 0.3355244\\\\\n",
       "\t3 & 1 & 30 & 12 & 1 & 0 & 0 &  0 &  0 & 24909.4500 & 29.31231 & 12.618760 & 0.9870983 & -0.004868895 & 0.006270865 &   -7.819524 &    1.717361 & 0.5666518\\\\\n",
       "\t4 & 1 & 27 & 11 & 1 & 0 & 1 &  0 &  0 &  7506.1460 & 26.43169 &  9.749158 & 0.9823333 & -0.004816264 & 0.962854037 & -138.173065 & -220.540460 & 0.6154658\\\\\n",
       "\t5 & 1 & 33 &  8 & 1 & 0 & 1 &  0 &  0 &   289.7899 & 31.44560 &  8.361331 & 0.9905948 &  0.001515544 & 1.015936556 & -219.375419 &   -5.255533 & 0.6132265\\\\\n",
       "\t6 & 1 & 22 &  9 & 1 & 0 & 1 & NA &  0 &  4056.4940 & 22.53935 &  9.000480 & 1.0028630 & -0.005338326 & 1.003013183 & 1809.601285 &  252.258533 & 0.6006557\\\\\n",
       "\\end{tabular}\n"
      ],
      "text/markdown": [
       "\n",
       "A data.frame: 6 × 17\n",
       "\n",
       "| <!--/--> | treat &lt;int&gt; | age &lt;int&gt; | educ &lt;int&gt; | race &lt;int&gt; | married &lt;int&gt; | nodegree &lt;int&gt; | re74 &lt;dbl&gt; | re75 &lt;dbl&gt; | re78 &lt;dbl&gt; | age_new &lt;dbl&gt; | educ_new &lt;dbl&gt; | race_new &lt;dbl&gt; | married_new &lt;dbl&gt; | nodegree_new &lt;dbl&gt; | re74_new &lt;dbl&gt; | re75_new &lt;dbl&gt; | PS &lt;dbl&gt; |\n",
       "|---|---|---|---|---|---|---|---|---|---|---|---|---|---|---|---|---|---|\n",
       "| 1 | 1 | 37 | 11 | 1 | 1 | 1 | NA |  0 |  9930.0460 | 36.87897 |  9.269598 | 1.0103177 |  0.992788414 | 0.939356134 | 2508.958620 |  104.619616 | 0.4196384 |\n",
       "| 2 | 1 | 22 |  9 | 2 | 0 | 1 | NA | NA |  3595.8940 | 22.05885 |  9.031122 | 2.0103756 |  0.002382094 | 1.005831651 | 2433.479138 |  783.582575 | 0.3355244 |\n",
       "| 3 | 1 | 30 | 12 | 1 | 0 | 0 |  0 |  0 | 24909.4500 | 29.31231 | 12.618760 | 0.9870983 | -0.004868895 | 0.006270865 |   -7.819524 |    1.717361 | 0.5666518 |\n",
       "| 4 | 1 | 27 | 11 | 1 | 0 | 1 |  0 |  0 |  7506.1460 | 26.43169 |  9.749158 | 0.9823333 | -0.004816264 | 0.962854037 | -138.173065 | -220.540460 | 0.6154658 |\n",
       "| 5 | 1 | 33 |  8 | 1 | 0 | 1 |  0 |  0 |   289.7899 | 31.44560 |  8.361331 | 0.9905948 |  0.001515544 | 1.015936556 | -219.375419 |   -5.255533 | 0.6132265 |\n",
       "| 6 | 1 | 22 |  9 | 1 | 0 | 1 | NA |  0 |  4056.4940 | 22.53935 |  9.000480 | 1.0028630 | -0.005338326 | 1.003013183 | 1809.601285 |  252.258533 | 0.6006557 |\n",
       "\n"
      ],
      "text/plain": [
       "  treat age educ race married nodegree re74 re75 re78       age_new  educ_new \n",
       "1 1     37  11   1    1       1        NA    0    9930.0460 36.87897  9.269598\n",
       "2 1     22   9   2    0       1        NA   NA    3595.8940 22.05885  9.031122\n",
       "3 1     30  12   1    0       0         0    0   24909.4500 29.31231 12.618760\n",
       "4 1     27  11   1    0       1         0    0    7506.1460 26.43169  9.749158\n",
       "5 1     33   8   1    0       1         0    0     289.7899 31.44560  8.361331\n",
       "6 1     22   9   1    0       1        NA    0    4056.4940 22.53935  9.000480\n",
       "  race_new  married_new  nodegree_new re74_new    re75_new    PS       \n",
       "1 1.0103177  0.992788414 0.939356134  2508.958620  104.619616 0.4196384\n",
       "2 2.0103756  0.002382094 1.005831651  2433.479138  783.582575 0.3355244\n",
       "3 0.9870983 -0.004868895 0.006270865    -7.819524    1.717361 0.5666518\n",
       "4 0.9823333 -0.004816264 0.962854037  -138.173065 -220.540460 0.6154658\n",
       "5 0.9905948  0.001515544 1.015936556  -219.375419   -5.255533 0.6132265\n",
       "6 1.0028630 -0.005338326 1.003013183  1809.601285  252.258533 0.6006557"
      ]
     },
     "metadata": {},
     "output_type": "display_data"
    }
   ],
   "source": [
    "head(ds)"
   ]
  },
  {
   "cell_type": "markdown",
   "metadata": {},
   "source": [
    "Missing value imputation"
   ]
  },
  {
   "cell_type": "code",
   "execution_count": 58,
   "metadata": {},
   "outputs": [],
   "source": [
    "ds[[\"re74\"]][is.na(ds[[\"re74\"]])]<-ds[[\"re74_new\"]][is.na(ds[[\"re74\"]])]\n",
    "ds[[\"re75\"]][is.na(ds[[\"re75\"]])]<-ds[[\"re75_new\"]][is.na(ds[[\"re75\"]])]"
   ]
  },
  {
   "cell_type": "code",
   "execution_count": 59,
   "metadata": {},
   "outputs": [
    {
     "data": {
      "text/html": [
       "<table>\n",
       "<caption>A data.frame: 6 × 17</caption>\n",
       "<thead>\n",
       "\t<tr><th></th><th scope=col>treat</th><th scope=col>age</th><th scope=col>educ</th><th scope=col>race</th><th scope=col>married</th><th scope=col>nodegree</th><th scope=col>re74</th><th scope=col>re75</th><th scope=col>re78</th><th scope=col>age_new</th><th scope=col>educ_new</th><th scope=col>race_new</th><th scope=col>married_new</th><th scope=col>nodegree_new</th><th scope=col>re74_new</th><th scope=col>re75_new</th><th scope=col>PS</th></tr>\n",
       "\t<tr><th></th><th scope=col>&lt;int&gt;</th><th scope=col>&lt;int&gt;</th><th scope=col>&lt;int&gt;</th><th scope=col>&lt;int&gt;</th><th scope=col>&lt;int&gt;</th><th scope=col>&lt;int&gt;</th><th scope=col>&lt;dbl&gt;</th><th scope=col>&lt;dbl&gt;</th><th scope=col>&lt;dbl&gt;</th><th scope=col>&lt;dbl&gt;</th><th scope=col>&lt;dbl&gt;</th><th scope=col>&lt;dbl&gt;</th><th scope=col>&lt;dbl&gt;</th><th scope=col>&lt;dbl&gt;</th><th scope=col>&lt;dbl&gt;</th><th scope=col>&lt;dbl&gt;</th><th scope=col>&lt;dbl&gt;</th></tr>\n",
       "</thead>\n",
       "<tbody>\n",
       "\t<tr><th scope=row>1</th><td>1</td><td>37</td><td>11</td><td>1</td><td>1</td><td>1</td><td>2508.959</td><td>  0.0000</td><td> 9930.0460</td><td>36.87897</td><td> 9.269598</td><td>1.0103177</td><td> 0.992788414</td><td>0.939356134</td><td>2508.958620</td><td> 104.619616</td><td>0.4196384</td></tr>\n",
       "\t<tr><th scope=row>2</th><td>1</td><td>22</td><td> 9</td><td>2</td><td>0</td><td>1</td><td>2433.479</td><td>783.5826</td><td> 3595.8940</td><td>22.05885</td><td> 9.031122</td><td>2.0103756</td><td> 0.002382094</td><td>1.005831651</td><td>2433.479138</td><td> 783.582575</td><td>0.3355244</td></tr>\n",
       "\t<tr><th scope=row>3</th><td>1</td><td>30</td><td>12</td><td>1</td><td>0</td><td>0</td><td>   0.000</td><td>  0.0000</td><td>24909.4500</td><td>29.31231</td><td>12.618760</td><td>0.9870983</td><td>-0.004868895</td><td>0.006270865</td><td>  -7.819524</td><td>   1.717361</td><td>0.5666518</td></tr>\n",
       "\t<tr><th scope=row>4</th><td>1</td><td>27</td><td>11</td><td>1</td><td>0</td><td>1</td><td>   0.000</td><td>  0.0000</td><td> 7506.1460</td><td>26.43169</td><td> 9.749158</td><td>0.9823333</td><td>-0.004816264</td><td>0.962854037</td><td>-138.173065</td><td>-220.540460</td><td>0.6154658</td></tr>\n",
       "\t<tr><th scope=row>5</th><td>1</td><td>33</td><td> 8</td><td>1</td><td>0</td><td>1</td><td>   0.000</td><td>  0.0000</td><td>  289.7899</td><td>31.44560</td><td> 8.361331</td><td>0.9905948</td><td> 0.001515544</td><td>1.015936556</td><td>-219.375419</td><td>  -5.255533</td><td>0.6132265</td></tr>\n",
       "\t<tr><th scope=row>6</th><td>1</td><td>22</td><td> 9</td><td>1</td><td>0</td><td>1</td><td>1809.601</td><td>  0.0000</td><td> 4056.4940</td><td>22.53935</td><td> 9.000480</td><td>1.0028630</td><td>-0.005338326</td><td>1.003013183</td><td>1809.601285</td><td> 252.258533</td><td>0.6006557</td></tr>\n",
       "</tbody>\n",
       "</table>\n"
      ],
      "text/latex": [
       "A data.frame: 6 × 17\n",
       "\\begin{tabular}{r|lllllllllllllllll}\n",
       "  & treat & age & educ & race & married & nodegree & re74 & re75 & re78 & age\\_new & educ\\_new & race\\_new & married\\_new & nodegree\\_new & re74\\_new & re75\\_new & PS\\\\\n",
       "  & <int> & <int> & <int> & <int> & <int> & <int> & <dbl> & <dbl> & <dbl> & <dbl> & <dbl> & <dbl> & <dbl> & <dbl> & <dbl> & <dbl> & <dbl>\\\\\n",
       "\\hline\n",
       "\t1 & 1 & 37 & 11 & 1 & 1 & 1 & 2508.959 &   0.0000 &  9930.0460 & 36.87897 &  9.269598 & 1.0103177 &  0.992788414 & 0.939356134 & 2508.958620 &  104.619616 & 0.4196384\\\\\n",
       "\t2 & 1 & 22 &  9 & 2 & 0 & 1 & 2433.479 & 783.5826 &  3595.8940 & 22.05885 &  9.031122 & 2.0103756 &  0.002382094 & 1.005831651 & 2433.479138 &  783.582575 & 0.3355244\\\\\n",
       "\t3 & 1 & 30 & 12 & 1 & 0 & 0 &    0.000 &   0.0000 & 24909.4500 & 29.31231 & 12.618760 & 0.9870983 & -0.004868895 & 0.006270865 &   -7.819524 &    1.717361 & 0.5666518\\\\\n",
       "\t4 & 1 & 27 & 11 & 1 & 0 & 1 &    0.000 &   0.0000 &  7506.1460 & 26.43169 &  9.749158 & 0.9823333 & -0.004816264 & 0.962854037 & -138.173065 & -220.540460 & 0.6154658\\\\\n",
       "\t5 & 1 & 33 &  8 & 1 & 0 & 1 &    0.000 &   0.0000 &   289.7899 & 31.44560 &  8.361331 & 0.9905948 &  0.001515544 & 1.015936556 & -219.375419 &   -5.255533 & 0.6132265\\\\\n",
       "\t6 & 1 & 22 &  9 & 1 & 0 & 1 & 1809.601 &   0.0000 &  4056.4940 & 22.53935 &  9.000480 & 1.0028630 & -0.005338326 & 1.003013183 & 1809.601285 &  252.258533 & 0.6006557\\\\\n",
       "\\end{tabular}\n"
      ],
      "text/markdown": [
       "\n",
       "A data.frame: 6 × 17\n",
       "\n",
       "| <!--/--> | treat &lt;int&gt; | age &lt;int&gt; | educ &lt;int&gt; | race &lt;int&gt; | married &lt;int&gt; | nodegree &lt;int&gt; | re74 &lt;dbl&gt; | re75 &lt;dbl&gt; | re78 &lt;dbl&gt; | age_new &lt;dbl&gt; | educ_new &lt;dbl&gt; | race_new &lt;dbl&gt; | married_new &lt;dbl&gt; | nodegree_new &lt;dbl&gt; | re74_new &lt;dbl&gt; | re75_new &lt;dbl&gt; | PS &lt;dbl&gt; |\n",
       "|---|---|---|---|---|---|---|---|---|---|---|---|---|---|---|---|---|---|\n",
       "| 1 | 1 | 37 | 11 | 1 | 1 | 1 | 2508.959 |   0.0000 |  9930.0460 | 36.87897 |  9.269598 | 1.0103177 |  0.992788414 | 0.939356134 | 2508.958620 |  104.619616 | 0.4196384 |\n",
       "| 2 | 1 | 22 |  9 | 2 | 0 | 1 | 2433.479 | 783.5826 |  3595.8940 | 22.05885 |  9.031122 | 2.0103756 |  0.002382094 | 1.005831651 | 2433.479138 |  783.582575 | 0.3355244 |\n",
       "| 3 | 1 | 30 | 12 | 1 | 0 | 0 |    0.000 |   0.0000 | 24909.4500 | 29.31231 | 12.618760 | 0.9870983 | -0.004868895 | 0.006270865 |   -7.819524 |    1.717361 | 0.5666518 |\n",
       "| 4 | 1 | 27 | 11 | 1 | 0 | 1 |    0.000 |   0.0000 |  7506.1460 | 26.43169 |  9.749158 | 0.9823333 | -0.004816264 | 0.962854037 | -138.173065 | -220.540460 | 0.6154658 |\n",
       "| 5 | 1 | 33 |  8 | 1 | 0 | 1 |    0.000 |   0.0000 |   289.7899 | 31.44560 |  8.361331 | 0.9905948 |  0.001515544 | 1.015936556 | -219.375419 |   -5.255533 | 0.6132265 |\n",
       "| 6 | 1 | 22 |  9 | 1 | 0 | 1 | 1809.601 |   0.0000 |  4056.4940 | 22.53935 |  9.000480 | 1.0028630 | -0.005338326 | 1.003013183 | 1809.601285 |  252.258533 | 0.6006557 |\n",
       "\n"
      ],
      "text/plain": [
       "  treat age educ race married nodegree re74     re75     re78       age_new \n",
       "1 1     37  11   1    1       1        2508.959   0.0000  9930.0460 36.87897\n",
       "2 1     22   9   2    0       1        2433.479 783.5826  3595.8940 22.05885\n",
       "3 1     30  12   1    0       0           0.000   0.0000 24909.4500 29.31231\n",
       "4 1     27  11   1    0       1           0.000   0.0000  7506.1460 26.43169\n",
       "5 1     33   8   1    0       1           0.000   0.0000   289.7899 31.44560\n",
       "6 1     22   9   1    0       1        1809.601   0.0000  4056.4940 22.53935\n",
       "  educ_new  race_new  married_new  nodegree_new re74_new    re75_new   \n",
       "1  9.269598 1.0103177  0.992788414 0.939356134  2508.958620  104.619616\n",
       "2  9.031122 2.0103756  0.002382094 1.005831651  2433.479138  783.582575\n",
       "3 12.618760 0.9870983 -0.004868895 0.006270865    -7.819524    1.717361\n",
       "4  9.749158 0.9823333 -0.004816264 0.962854037  -138.173065 -220.540460\n",
       "5  8.361331 0.9905948  0.001515544 1.015936556  -219.375419   -5.255533\n",
       "6  9.000480 1.0028630 -0.005338326 1.003013183  1809.601285  252.258533\n",
       "  PS       \n",
       "1 0.4196384\n",
       "2 0.3355244\n",
       "3 0.5666518\n",
       "4 0.6154658\n",
       "5 0.6132265\n",
       "6 0.6006557"
      ]
     },
     "metadata": {},
     "output_type": "display_data"
    }
   ],
   "source": [
    "head(ds)"
   ]
  },
  {
   "cell_type": "code",
   "execution_count": 60,
   "metadata": {},
   "outputs": [],
   "source": [
    "ds$PS[ds$treat==0]<-1-ds$PS[ds$treat==0]"
   ]
  },
  {
   "cell_type": "markdown",
   "metadata": {},
   "source": [
    "Estimation of the effect"
   ]
  },
  {
   "cell_type": "code",
   "execution_count": 61,
   "metadata": {},
   "outputs": [],
   "source": [
    "fit<-lm(re78 ~ treat + age + educ + race + married + nodegree + \n",
    "              re74 + re75, data = ds, weights = I(1/PS))"
   ]
  },
  {
   "cell_type": "code",
   "execution_count": 62,
   "metadata": {},
   "outputs": [
    {
     "data": {
      "text/plain": [
       "\n",
       "Call:\n",
       "lm(formula = re78 ~ treat + age + educ + race + married + nodegree + \n",
       "    re74 + re75, data = ds, weights = I(1/PS))\n",
       "\n",
       "Weighted Residuals:\n",
       "   Min     1Q Median     3Q    Max \n",
       "-36227  -6753  -1880   4988  69112 \n",
       "\n",
       "Coefficients:\n",
       "              Estimate Std. Error t value Pr(>|t|)   \n",
       "(Intercept) -2787.8492  2565.6450  -1.087  0.27764   \n",
       "treat         783.5393   614.2495   1.276  0.20259   \n",
       "age            38.8005    33.5581   1.156  0.24805   \n",
       "educ          518.3447   164.6420   3.148  0.00172 **\n",
       "race          624.0507   329.1381   1.896  0.05843 . \n",
       "married      1178.5586   658.9197   1.789  0.07418 . \n",
       "nodegree      531.9250   853.9522   0.623  0.53359   \n",
       "re74            0.1560     0.1136   1.374  0.17004   \n",
       "re75            0.3839     0.2311   1.661  0.09717 . \n",
       "---\n",
       "Signif. codes:  0 '***' 0.001 '**' 0.01 '*' 0.05 '.' 0.1 ' ' 1\n",
       "\n",
       "Residual standard error: 9210 on 605 degrees of freedom\n",
       "Multiple R-squared:  0.06389,\tAdjusted R-squared:  0.05151 \n",
       "F-statistic: 5.161 on 8 and 605 DF,  p-value: 3.019e-06\n"
      ]
     },
     "metadata": {},
     "output_type": "display_data"
    }
   ],
   "source": [
    "summary(fit)"
   ]
  },
  {
   "cell_type": "code",
   "execution_count": null,
   "metadata": {},
   "outputs": [],
   "source": []
  }
 ],
 "metadata": {
  "kernelspec": {
   "display_name": "R36",
   "language": "R",
   "name": "ir36"
  },
  "language_info": {
   "codemirror_mode": "r",
   "file_extension": ".r",
   "mimetype": "text/x-r-source",
   "name": "R",
   "pygments_lexer": "r",
   "version": "3.6.3"
  }
 },
 "nbformat": 4,
 "nbformat_minor": 2
}
